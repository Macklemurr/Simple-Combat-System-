{
 "cells": [
  {
   "cell_type": "code",
   "execution_count": 66,
   "metadata": {},
   "outputs": [
    {
     "name": "stdout",
     "output_type": "stream",
     "text": [
      "['shy', 'wild', 'insane', 'blood hungry']\n"
     ]
    }
   ],
   "source": [
    "from random import randint\n",
    "d3 = randint(0,3)\n",
    "\n",
    "enemy_titles = {\n",
    "    'goblin': [ \"shy\", \"wild\", \"insane\", \"blood hungry\"],                                    \n",
    "}\n",
    "class Enemy:\n",
    "    def __init__(self, name, title, hp=5, dmg=d3, sp=2):\n",
    "        #health is hp\n",
    "        self.name = name\n",
    "        self.title = title\n",
    "        self.hp = hp\n",
    "        self.dmg = dmg\n",
    "        self.sp = sp\n",
    "\n",
    "enemy = Enemy(enemy_titles[\"goblin\"],enemy_titles[\"goblin\"][0])\n",
    "\n",
    "print(enemy_titles[\"goblin\"])"
   ]
  },
  {
   "cell_type": "code",
   "execution_count": 13,
   "metadata": {},
   "outputs": [
    {
     "name": "stdout",
     "output_type": "stream",
     "text": [
      "0\n"
     ]
    }
   ],
   "source": [
    "import random\n",
    "\n",
    "for i in range(0,4):\n",
    "    print(random.choice(i))\n"
   ]
  }
 ],
 "metadata": {
  "kernelspec": {
   "display_name": "Python 3",
   "language": "python",
   "name": "python3"
  },
  "language_info": {
   "codemirror_mode": {
    "name": "ipython",
    "version": 3
   },
   "file_extension": ".py",
   "mimetype": "text/x-python",
   "name": "python",
   "nbconvert_exporter": "python",
   "pygments_lexer": "ipython3",
   "version": "3.10.11"
  }
 },
 "nbformat": 4,
 "nbformat_minor": 2
}
